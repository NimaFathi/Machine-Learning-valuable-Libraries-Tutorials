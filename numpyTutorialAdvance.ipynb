{
 "cells": [
  {
   "cell_type": "markdown",
   "metadata": {
    "pycharm": {
     "name": "#%%\n"
    }
   },
   "source": [
    " see if numpy works..."
   ]
  },
  {
   "cell_type": "code",
   "execution_count": 1,
   "metadata": {},
   "outputs": [
    {
     "name": "stdout",
     "output_type": "stream",
     "text": [
      "2\n",
      "hello\n",
      "[1 2 3]\n",
      "[[0. 0. 0.]\n",
      " [0. 0. 0.]]\n"
     ]
    }
   ],
   "source": [
    "import numpy as np\n",
    "x = 2\n",
    "print(x)\n",
    "print(\"hello\")\n",
    "arr2 = np.array([1,2,3])\n",
    "print(arr2)\n",
    "arr3 = np.zeros([2,3])\n",
    "print(arr3)"
   ]
  },
  {
   "cell_type": "markdown",
   "metadata": {},
   "source": [
    "it does !!"
   ]
  },
  {
   "cell_type": "markdown",
   "metadata": {},
   "source": [
    "# 1-How to get index locations that satisfy a given condition using np.where?\n"
   ]
  },
  {
   "cell_type": "code",
   "execution_count": 16,
   "metadata": {},
   "outputs": [
    {
     "name": "stdout",
     "output_type": "stream",
     "text": [
      "(array([1, 2, 3, 4]),)\n",
      "[6 7 8 9]\n"
     ]
    }
   ],
   "source": [
    "arr1d = np.array([5,6,7,8,9,1,2,3,4])\n",
    "gt5 = np.where(arr1d > 5)\n",
    "print(gt5) #positions\n",
    "print(arr1d[gt5]) #values"
   ]
  },
  {
   "cell_type": "markdown",
   "metadata": {},
   "source": [
    "we can use if else conditon too"
   ]
  },
  {
   "cell_type": "code",
   "execution_count": 17,
   "metadata": {},
   "outputs": [
    {
     "name": "stdout",
     "output_type": "stream",
     "text": [
      "['le5' 'gt5' 'gt5' 'gt5' 'gt5' 'le5' 'le5' 'le5' 'le5']\n"
     ]
    }
   ],
   "source": [
    "print(np.where(arr1d > 5, 'gt5','le5'))"
   ]
  },
  {
   "cell_type": "markdown",
   "metadata": {},
   "source": [
    "we can take items like this\n"
   ]
  },
  {
   "cell_type": "code",
   "execution_count": 18,
   "metadata": {},
   "outputs": [
    {
     "name": "stdout",
     "output_type": "stream",
     "text": [
      "[[6 7 8 9]]\n"
     ]
    }
   ],
   "source": [
    "print(arr1d.take(gt5))\n"
   ]
  },
  {
   "cell_type": "markdown",
   "metadata": {},
   "source": [
    "# 2-How to import and export data as a csv file?\\\n",
    "Turn off scientific notation"
   ]
  },
  {
   "cell_type": "code",
   "execution_count": 19,
   "metadata": {},
   "outputs": [],
   "source": [
    "\n",
    "np.set_printoptions(suppress=True)"
   ]
  },
  {
   "cell_type": "markdown",
   "metadata": {},
   "source": [
    "Import data from csv file url"
   ]
  },
  {
   "cell_type": "code",
   "execution_count": 20,
   "metadata": {},
   "outputs": [
    {
     "data": {
      "text/plain": [
       "array([[  18. ,    8. ,  307. ,  130. , 3504. ,   12. ,   70. ,    1. ,\n",
       "        -999. ],\n",
       "       [  15. ,    8. ,  350. ,  165. , 3693. ,   11.5,   70. ,    1. ,\n",
       "        -999. ],\n",
       "       [  18. ,    8. ,  318. ,  150. , 3436. ,   11. ,   70. ,    1. ,\n",
       "        -999. ],\n",
       "       [  16. ,    8. ,  304. ,  150. , 3433. ,   12. ,   70. ,    1. ,\n",
       "        -999. ],\n",
       "       [  17. ,    8. ,  302. ,  140. , 3449. ,   10.5,   70. ,    1. ,\n",
       "        -999. ]])"
      ]
     },
     "execution_count": 20,
     "metadata": {},
     "output_type": "execute_result"
    }
   ],
   "source": [
    "path = 'https://raw.githubusercontent.com/selva86/datasets/master/Auto.csv'\n",
    "data = np.genfromtxt(path, delimiter=',', skip_header=1, filling_values=-999, dtype='float')\n",
    "data[:5]  # see first 5 rows\n"
   ]
  },
  {
   "cell_type": "markdown",
   "metadata": {},
   "source": [
    "# 3-How to handle datasets that has both numbers and text columns?\n",
    "we can use both object and None <br>\n",
    "<strong>object:</strong>"
   ]
  },
  {
   "cell_type": "code",
   "execution_count": 15,
   "metadata": {},
   "outputs": [],
   "source": [
    "data2 = np.genfromtxt(path, delimiter=',', skip_header=1, dtype='object')\n",
    "data2[:3]\n",
    "np.savetxt(\"out.csv\",data, delimiter=\",\")"
   ]
  },
  {
   "cell_type": "markdown",
   "metadata": {},
   "source": [
    "<strong>None</strong>"
   ]
  },
  {
   "cell_type": "code",
   "execution_count": 21,
   "metadata": {},
   "outputs": [
    {
     "name": "stderr",
     "output_type": "stream",
     "text": [
      "/home/nima/anaconda3/lib/python3.7/site-packages/ipykernel_launcher.py:1: VisibleDeprecationWarning: Reading unicode strings without specifying the encoding argument is deprecated. Set the encoding, use None for the system default.\n",
      "  \"\"\"Entry point for launching an IPython kernel.\n"
     ]
    },
    {
     "data": {
      "text/plain": [
       "array([(18., 8, 307., 130, 3504, 12. , 70, 1, b'\"chevrolet chevelle malibu\"'),\n",
       "       (15., 8, 350., 165, 3693, 11.5, 70, 1, b'\"buick skylark 320\"'),\n",
       "       (18., 8, 318., 150, 3436, 11. , 70, 1, b'\"plymouth satellite\"')],\n",
       "      dtype=[('f0', '<f8'), ('f1', '<i8'), ('f2', '<f8'), ('f3', '<i8'), ('f4', '<i8'), ('f5', '<f8'), ('f6', '<i8'), ('f7', '<i8'), ('f8', 'S38')])"
      ]
     },
     "execution_count": 21,
     "metadata": {},
     "output_type": "execute_result"
    }
   ],
   "source": [
    "data3 = np.genfromtxt(path, delimiter=',', skip_header=1, dtype=None)\n",
    "data3[:3]  # see first 3 rows"
   ]
  },
  {
   "cell_type": "markdown",
   "metadata": {},
   "source": [
    "# 4- How to save and load numpy objects?"
   ]
  },
  {
   "cell_type": "code",
   "execution_count": 22,
   "metadata": {},
   "outputs": [
    {
     "name": "stdout",
     "output_type": "stream",
     "text": [
      "[1 2 3]\n"
     ]
    }
   ],
   "source": [
    "np.save('myarray.npy',arr2)\n",
    "a = np.load('myarray.npy')\n",
    "print(a)\n"
   ]
  },
  {
   "cell_type": "markdown",
   "metadata": {},
   "source": [
    "# 5- save multiple numpy objects?"
   ]
  },
  {
   "cell_type": "code",
   "execution_count": 27,
   "metadata": {},
   "outputs": [
    {
     "name": "stdout",
     "output_type": "stream",
     "text": [
      "['arr_0', 'arr_1']\n",
      "arr_0 :\n",
      " [[1 2]\n",
      " [3 4]\n",
      " [5 6]]\n"
     ]
    }
   ],
   "source": [
    "arr1d = [1,2,3,4,5]\n",
    "arr2d = [[1,2],[3,4],[5,6]]\n",
    "np.savez(\"myfile.npz\", arr2d, arr1d)\n",
    "b = np.load(\"myfile.npz\")\n",
    "print(b.files)\n",
    "print('arr_0 :\\n',b['arr_0'])"
   ]
  },
  {
   "cell_type": "markdown",
   "metadata": {},
   "source": [
    "# 6- How to concatenate two numpy arrays columnwise and row wise\n",
    "3 methodes :<br>\n",
    "1- np.concatenate <br> 2- np.vtask & np.hstack <br> 3- np.r_ & np.c_"
   ]
  },
  {
   "cell_type": "markdown",
   "metadata": {},
   "source": [
    "<strong> np.concatenate()</strong>"
   ]
  },
  {
   "cell_type": "code",
   "execution_count": 29,
   "metadata": {},
   "outputs": [
    {
     "name": "stdout",
     "output_type": "stream",
     "text": [
      "[[0. 0.]\n",
      " [0. 0.]\n",
      " [1. 1.]\n",
      " [1. 1.]]\n",
      "\n",
      "[[0. 0. 1. 1.]\n",
      " [0. 0. 1. 1.]]\n",
      "\n"
     ]
    }
   ],
   "source": [
    "a = np.zeros([2,2])\n",
    "b = np.ones([2,2])\n",
    "print(np.concatenate([a,b],axis=0),end=\"\\n\\n\")\n",
    "print(np.concatenate([a,b],axis=1),end=\"\\n\\n\")\n"
   ]
  },
  {
   "cell_type": "markdown",
   "metadata": {},
   "source": [
    "<strong> npvstack() & np.hstack() </strong>"
   ]
  },
  {
   "cell_type": "code",
   "execution_count": 30,
   "metadata": {},
   "outputs": [
    {
     "name": "stdout",
     "output_type": "stream",
     "text": [
      "[[0. 0.]\n",
      " [0. 0.]\n",
      " [1. 1.]\n",
      " [1. 1.]]\n",
      "\n",
      "[[0. 0. 1. 1.]\n",
      " [0. 0. 1. 1.]]\n",
      "\n"
     ]
    }
   ],
   "source": [
    "print(np.vstack([a,b]),end=\"\\n\\n\")\n",
    "print(np.hstack([a,b]),end=\"\\n\\n\")"
   ]
  },
  {
   "cell_type": "markdown",
   "metadata": {},
   "source": [
    "<strong>np.r_ & np.c_ </strong>"
   ]
  },
  {
   "cell_type": "code",
   "execution_count": 31,
   "metadata": {},
   "outputs": [
    {
     "name": "stdout",
     "output_type": "stream",
     "text": [
      "[[0. 0.]\n",
      " [0. 0.]\n",
      " [1. 1.]\n",
      " [1. 1.]]\n",
      "\n",
      "[[0. 0. 1. 1.]\n",
      " [0. 0. 1. 1.]]\n",
      "\n"
     ]
    }
   ],
   "source": [
    "print(np.r_[a,b],end=\"\\n\\n\")\n",
    "print(np.c_[a,b],end=\"\\n\\n\")\n"
   ]
  },
  {
   "cell_type": "markdown",
   "metadata": {},
   "source": [
    "we can use np.r_ for concatnenate more complex numer sequences in 1d\n"
   ]
  },
  {
   "cell_type": "code",
   "execution_count": 32,
   "metadata": {},
   "outputs": [
    {
     "name": "stdout",
     "output_type": "stream",
     "text": [
      "[1 2 3 0 0 3 2]\n"
     ]
    }
   ],
   "source": [
    "print(np.r_[[1,2,3],0,0,[3,2]])"
   ]
  },
  {
   "cell_type": "markdown",
   "metadata": {},
   "source": [
    "# 7- How to sort a numpy array based on one or more columns?\n",
    "If we use np.sort on columns it gonna change rows and sort on columns with changing rows too"
   ]
  },
  {
   "cell_type": "code",
   "execution_count": 39,
   "metadata": {},
   "outputs": [
    {
     "name": "stdout",
     "output_type": "stream",
     "text": [
      "arr is :\n",
      " [[3 6 6 2 4]\n",
      " [6 4 3 1 1]\n",
      " [5 5 6 5 2]\n",
      " [5 4 4 2 3]\n",
      " [3 1 1 2 1]]\n",
      "Sorred arr:\n",
      " [[3 1 1 1 1]\n",
      " [3 4 3 2 1]\n",
      " [5 4 4 2 2]\n",
      " [5 5 6 2 3]\n",
      " [6 6 6 5 4]]\n"
     ]
    }
   ],
   "source": [
    "arr = np.random.randint(1,7,size=[5,5])\n",
    "print('arr is :\\n',arr)\n",
    "print('Sorred arr:\\n',np.sort(arr,axis=0))\n"
   ]
  },
  {
   "cell_type": "markdown",
   "metadata": {},
   "source": [
    "# 8- How to sort a numpy array based on 1 column using argsort?\n"
   ]
  },
  {
   "cell_type": "markdown",
   "metadata": {},
   "source": [
    "with argsort we can sort base on columns without changing rows"
   ]
  },
  {
   "cell_type": "code",
   "execution_count": 35,
   "metadata": {},
   "outputs": [
    {
     "name": "stdout",
     "output_type": "stream",
     "text": [
      "array:  [5 5 3 3 5 3 5 2 6 3]\n",
      "sort index positions: [7 2 3 5 9 0 1 4 6 8]\n"
     ]
    }
   ],
   "source": [
    "x=np.random.randint(1,7,10)\n",
    "print(\"array: \",x)\n",
    "sort_index = np.argsort(x)\n",
    "print('sort index positions:', sort_index) #gonna return positions on rows for being a 1d sorted array\n"
   ]
  },
  {
   "cell_type": "markdown",
   "metadata": {},
   "source": [
    "sorted array:"
   ]
  },
  {
   "cell_type": "code",
   "execution_count": 40,
   "metadata": {},
   "outputs": [
    {
     "name": "stdout",
     "output_type": "stream",
     "text": [
      "[2 3 3 3 3 5 5 5 5 6]\n",
      "sort_index_1srcol:  [0 4 2 3 1]\n",
      "orginal array:\n",
      "[[3 6 6 2 4]\n",
      " [3 1 1 2 1]\n",
      " [5 5 6 5 2]\n",
      " [5 4 4 2 3]\n",
      " [6 4 3 1 1]]\n"
     ]
    }
   ],
   "source": [
    "print(x[sort_index])\n",
    "sort_index_1stcol = arr[:,0].argsort()\n",
    "print(\"sort_index_1srcol: \",sort_index_1stcol)\n",
    "print(\"orginal array:\")\n",
    "print(arr[sort_index_1stcol])"
   ]
  },
  {
   "cell_type": "markdown",
   "metadata": {},
   "source": [
    "sort decsending order:\n"
   ]
  },
  {
   "cell_type": "code",
   "execution_count": 41,
   "metadata": {},
   "outputs": [
    {
     "name": "stdout",
     "output_type": "stream",
     "text": [
      "[[6 4 3 1 1]\n",
      " [5 4 4 2 3]\n",
      " [5 5 6 5 2]\n",
      " [3 1 1 2 1]\n",
      " [3 6 6 2 4]]\n"
     ]
    }
   ],
   "source": [
    "print(arr[sort_index_1stcol[::-1]])\n"
   ]
  },
  {
   "cell_type": "markdown",
   "metadata": {},
   "source": [
    "# 9- How to sort a numpy array based on 2 or more columns?\n",
    "lexsort note that right most side inside the tuple has periority:"
   ]
  },
  {
   "cell_type": "code",
   "execution_count": 42,
   "metadata": {},
   "outputs": [
    {
     "data": {
      "text/plain": [
       "array([[3, 1, 1, 2, 1],\n",
       "       [3, 6, 6, 2, 4],\n",
       "       [5, 4, 4, 2, 3],\n",
       "       [5, 5, 6, 5, 2],\n",
       "       [6, 4, 3, 1, 1]])"
      ]
     },
     "execution_count": 42,
     "metadata": {},
     "output_type": "execute_result"
    }
   ],
   "source": [
    "lexsorted_index = np.lexsort((arr[:, 1], arr[:, 0])) \n",
    "arr[lexsorted_index]\n"
   ]
  },
  {
   "cell_type": "markdown",
   "metadata": {},
   "source": [
    "# 10- Working with dates"
   ]
  },
  {
   "cell_type": "code",
   "execution_count": 45,
   "metadata": {},
   "outputs": [
    {
     "name": "stdout",
     "output_type": "stream",
     "text": [
      "Date: 2018-02-04T23:10:10\n",
      "Date without day-time: 2018-02-04\n",
      "10 minutes\n",
      "10 seconds\n",
      "10 hours\n",
      "add 10 days:  2018-02-14\n",
      "add 10 minutes:  2018-02-04T00:10\n",
      "add 10 secconds:  2018-02-04T00:00:10\n",
      "add 10 hours:  2018-02-04T10\n"
     ]
    }
   ],
   "source": [
    "date64 = np.datetime64('2018-02-04T23:10:10')\n",
    "print('Date:',date64)\n",
    "dt64 = np.datetime64(date64,'D')\n",
    "print('Date without day-time:',dt64)\n",
    "tenminutes = np.timedelta64(10,'m')\n",
    "print(tenminutes)\n",
    "tenseconds = np.timedelta64(10,'s')\n",
    "print(tenseconds)\n",
    "tenhours = np.timedelta64(10,'h')\n",
    "print(tenhours)\n",
    "print('add 10 days: ',dt64 + 10)\n",
    "print('add 10 minutes: ',  dt64 + tenminutes)\n",
    "print('add 10 secconds: ',dt64 + tenseconds)\n",
    "print('add 10 hours: ', dt64 + tenhours)"
   ]
  },
  {
   "cell_type": "markdown",
   "metadata": {},
   "source": [
    "<strong> convert back date object to string:</strong>\n"
   ]
  },
  {
   "cell_type": "code",
   "execution_count": 46,
   "metadata": {},
   "outputs": [
    {
     "name": "stdout",
     "output_type": "stream",
     "text": [
      "2018-02-04\n"
     ]
    }
   ],
   "source": [
    "print(np.datetime_as_string(dt64))\n"
   ]
  },
  {
   "cell_type": "markdown",
   "metadata": {},
   "source": [
    "\n",
    "<strong>Find out if a day is a bussiness date or not:</strong>"
   ]
  },
  {
   "cell_type": "code",
   "execution_count": 47,
   "metadata": {},
   "outputs": [
    {
     "name": "stdout",
     "output_type": "stream",
     "text": [
      "Date: 2018-02-04\n",
      "Is today a bussiness day? False\n",
      "add 2 bussiness day rolling forward to nearest busday: 2018-02-07\n",
      "add 2 bussiness day rolling backward to nearest busday: 2018-02-06\n"
     ]
    }
   ],
   "source": [
    "print('Date:', dt64)\n",
    "print(\"Is today a bussiness day?\", np.is_busday(dt64))\n",
    "print('add 2 bussiness day rolling forward to nearest busday:',np.busday_offset(dt64,2,roll='forward'))\n",
    "\n",
    "print('add 2 bussiness day rolling backward to nearest busday:',np.busday_offset(dt64,2,roll='backward'))"
   ]
  },
  {
   "cell_type": "markdown",
   "metadata": {},
   "source": [
    "# 11- How to create a sequence of dates?\n",
    "<strong>Days sequence:</strong>\n"
   ]
  },
  {
   "cell_type": "code",
   "execution_count": 48,
   "metadata": {},
   "outputs": [
    {
     "name": "stdout",
     "output_type": "stream",
     "text": [
      "['2018-02-04' '2018-02-05' '2018-02-06' '2018-02-07' '2018-02-08'\n",
      " '2018-02-09' '2018-02-10']\n",
      "[False  True  True  True  True  True False]\n"
     ]
    }
   ],
   "source": [
    "dates = np.arange(np.datetime64('2018-02-04'),np.datetime64('2018-02-11'))\n",
    "print(dates)\n",
    "print(np.is_busday(dates))\n"
   ]
  },
  {
   "cell_type": "markdown",
   "metadata": {},
   "source": [
    "# 12- How to convert numpy.datetime64 to datetime.datetime object?\n"
   ]
  },
  {
   "cell_type": "code",
   "execution_count": 49,
   "metadata": {},
   "outputs": [
    {
     "name": "stdout",
     "output_type": "stream",
     "text": [
      "2018-02-04\n",
      "year: 2018\n",
      "month: 2\n",
      "Day of month: 4\n",
      "Day of week: 6\n"
     ]
    }
   ],
   "source": [
    "import datetime\n",
    "dt = dt64.tolist()\n",
    "print(dt)\n",
    "print('year:',dt.year)\n",
    "print('month:',dt.month)\n",
    "print('Day of month:',dt.day)\n",
    "print('Day of week:', dt.weekday())"
   ]
  },
  {
   "cell_type": "markdown",
   "metadata": {},
   "source": [
    "# 13- Advanced numpy functions:"
   ]
  },
  {
   "cell_type": "markdown",
   "metadata": {},
   "source": [
    "<strong> Vectorize:</strong>\n",
    "you can make a function to work on arrays with vectorize()"
   ]
  },
  {
   "cell_type": "code",
   "execution_count": 50,
   "metadata": {},
   "outputs": [
    {
     "name": "stdout",
     "output_type": "stream",
     "text": [
      "x=23 returns: 529\n",
      "x=34 returns: 17.0\n"
     ]
    }
   ],
   "source": [
    "def foo(x):\n",
    "\tif x%2 == 1:\n",
    "\t\treturn x **2\n",
    "\telse:\n",
    "\t\treturn x/2\n",
    "print('x=23 returns:', foo(23))\n",
    "print('x=34 returns:', foo(34))"
   ]
  },
  {
   "cell_type": "markdown",
   "metadata": {},
   "source": [
    "make to work on an a vector:"
   ]
  },
  {
   "cell_type": "code",
   "execution_count": 51,
   "metadata": {},
   "outputs": [
    {
     "name": "stdout",
     "output_type": "stream",
     "text": [
      "Ans for our specific vector: [  5.   6. 169. 225.  25.   3.]\n"
     ]
    }
   ],
   "source": [
    "vec = np.array([10,12,13,15,5,6])\n",
    "foo_v = np.vectorize(foo, otypes=[float])\n",
    "print('Ans for our specific vector:',foo_v(vec))"
   ]
  },
  {
   "cell_type": "markdown",
   "metadata": {},
   "source": [
    "# 13-1- apply_along_axis – Apply a function column wise or row wise"
   ]
  },
  {
   "cell_type": "code",
   "execution_count": 56,
   "metadata": {},
   "outputs": [
    {
     "name": "stdout",
     "output_type": "stream",
     "text": [
      "arr_x is:\n",
      " [[10 10  5  9  9  2 12  6  4  7]\n",
      " [ 4  4  4  3  2 10  6 13 12  2]\n",
      " [13 11  8  4 13  6  3  7  5  6]\n",
      " [ 6 13 13  5  9  3  3  9  9 13]]\n"
     ]
    }
   ],
   "source": [
    "np.random.seed(100)\n",
    "arr_x = np.random.randint(2,14,[4,10])\n",
    "print(\"arr_x is:\\n\",arr_x)\n"
   ]
  },
  {
   "cell_type": "markdown",
   "metadata": {},
   "source": [
    "<strong>How to finde the difference between maximun and minimun in each row FAST WAY:</strong><br>\n",
    "You can do this elegantly using the numpy.apply_along_axis.<br>\n",
    "It takes as arguments:<br>\n",
    "Function that works on a 1D vector (fund1d)\n",
    "Axis along which to apply func1d. For a 2D array, 1 is row wise and 0 is column wise.\n",
    "Array on which func1d should be applied.'"
   ]
  },
  {
   "cell_type": "code",
   "execution_count": 57,
   "metadata": {},
   "outputs": [],
   "source": [
    "def max_minus_min(x):\n",
    "\treturn max(x) - min(x)"
   ]
  },
  {
   "cell_type": "markdown",
   "metadata": {},
   "source": [
    "Apply along the rows:"
   ]
  },
  {
   "cell_type": "code",
   "execution_count": 59,
   "metadata": {},
   "outputs": [
    {
     "name": "stdout",
     "output_type": "stream",
     "text": [
      "row wise:  [10 11 10 10]\n"
     ]
    }
   ],
   "source": [
    "print(\"row wise: \",np.apply_along_axis(max_minus_min, axis=1, arr=arr_x))"
   ]
  },
  {
   "cell_type": "markdown",
   "metadata": {},
   "source": [
    "Apply along the columns"
   ]
  },
  {
   "cell_type": "code",
   "execution_count": 60,
   "metadata": {},
   "outputs": [
    {
     "name": "stdout",
     "output_type": "stream",
     "text": [
      "column wise:  [ 9  9  9  6 11  8  9  7  8 11]\n"
     ]
    }
   ],
   "source": [
    "print(\"column wise: \",np.apply_along_axis(max_minus_min, axis=0,arr=arr_x))"
   ]
  },
  {
   "cell_type": "markdown",
   "metadata": {},
   "source": [
    "# 13-2- searchsorted – Find the location to insert so the array will remain sorted\n"
   ]
  },
  {
   "cell_type": "markdown",
   "metadata": {},
   "source": [
    "It gives the index position at which a number should be inserted in order to keep the array sorted."
   ]
  },
  {
   "cell_type": "code",
   "execution_count": 61,
   "metadata": {},
   "outputs": [
    {
     "name": "stdout",
     "output_type": "stream",
     "text": [
      "Where should 5 be inserted?:  5\n",
      "Where should 5 be inserted (right)?:  6\n"
     ]
    }
   ],
   "source": [
    "x = np.arange(10)\n",
    "print('Where should 5 be inserted?: ', np.searchsorted(x, 5))\n",
    "print('Where should 5 be inserted (right)?: ', np.searchsorted(x, 5, side='right'))"
   ]
  },
  {
   "cell_type": "markdown",
   "metadata": {},
   "source": [
    "<strong>Randomly choose an item from a list based on a predefined probability:</strong>"
   ]
  },
  {
   "cell_type": "code",
   "execution_count": 62,
   "metadata": {},
   "outputs": [
    {
     "name": "stdout",
     "output_type": "stream",
     "text": [
      "38.8 µs ± 262 ns per loop (mean ± std. dev. of 7 runs, 10000 loops each)\n",
      "1.51 ms ± 21.6 µs per loop (mean ± std. dev. of 7 runs, 1000 loops each)\n"
     ]
    }
   ],
   "source": [
    "lst = range(10000)  # the list\n",
    "probs = np.random.random(10000); probs /= probs.sum()  # probabilities\n",
    "\n",
    "%timeit lst[np.searchsorted(probs.cumsum(), np.random.random())]\n",
    "%timeit np.random.choice(lst, p=probs)   "
   ]
  },
  {
   "cell_type": "markdown",
   "metadata": {},
   "source": [
    " # 13-3- How to add a new axis to a numpy array?"
   ]
  },
  {
   "cell_type": "markdown",
   "metadata": {},
   "source": [
    "create a 1d array:"
   ]
  },
  {
   "cell_type": "code",
   "execution_count": 63,
   "metadata": {},
   "outputs": [
    {
     "name": "stdout",
     "output_type": "stream",
     "text": [
      "Original array:  [0 1 2 3 4]\n"
     ]
    }
   ],
   "source": [
    "x = np.arange(5)\n",
    "print('Original array: ', x)"
   ]
  },
  {
   "cell_type": "markdown",
   "metadata": {},
   "source": [
    "Introduce a new column axis:\n"
   ]
  },
  {
   "cell_type": "code",
   "execution_count": 64,
   "metadata": {},
   "outputs": [
    {
     "name": "stdout",
     "output_type": "stream",
     "text": [
      "x_col shape:  (5, 1)\n",
      "[[0]\n",
      " [1]\n",
      " [2]\n",
      " [3]\n",
      " [4]]\n"
     ]
    }
   ],
   "source": [
    "x_col = x[:, np.newaxis]\n",
    "print('x_col shape: ', x_col.shape)\n",
    "print(x_col)"
   ]
  },
  {
   "cell_type": "markdown",
   "metadata": {},
   "source": [
    "Introduce a new row axis:"
   ]
  },
  {
   "cell_type": "code",
   "execution_count": 65,
   "metadata": {},
   "outputs": [
    {
     "name": "stdout",
     "output_type": "stream",
     "text": [
      "x_row shape:  (1, 5)\n",
      "[[0 1 2 3 4]]\n"
     ]
    }
   ],
   "source": [
    "x_row = x[np.newaxis, :]\n",
    "print('x_row shape: ', x_row.shape)\n",
    "print(x_row)\n"
   ]
  },
  {
   "cell_type": "markdown",
   "metadata": {},
   "source": [
    "# 13-4- Digitize\n",
    "Use np.digitize to return the index position of the bin each element belongs to."
   ]
  },
  {
   "cell_type": "code",
   "execution_count": 66,
   "metadata": {},
   "outputs": [
    {
     "data": {
      "text/plain": [
       "array([1, 1, 1, 2, 2, 2, 3, 3, 3, 4])"
      ]
     },
     "execution_count": 66,
     "metadata": {},
     "output_type": "execute_result"
    }
   ],
   "source": [
    "# Create the array and bins\n",
    "x = np.arange(10)\n",
    "bins = np.array([0, 3, 6, 9])\n",
    "\n",
    "# Get bin allotments\n",
    "np.digitize(x, bins)"
   ]
  },
  {
   "cell_type": "markdown",
   "metadata": {},
   "source": [
    "# 13-5- Clip\n",
    "Use np.clip to cap the numbers within a given cutoff range. All number lesser than the lower limit will be replaced by the lower limit. Same applies to the upper limit also."
   ]
  },
  {
   "cell_type": "code",
   "execution_count": 67,
   "metadata": {},
   "outputs": [
    {
     "data": {
      "text/plain": [
       "array([2, 2, 2, 3, 4, 5, 6, 6, 6, 6])"
      ]
     },
     "execution_count": 67,
     "metadata": {},
     "output_type": "execute_result"
    }
   ],
   "source": [
    "# Cap all elements of x to lie between 3 and 8\n",
    "np.clip(x, 2, 6)\n"
   ]
  },
  {
   "cell_type": "markdown",
   "metadata": {},
   "source": [
    "# 13-6- Histogram and Bincount\n",
    "oth histogram() and bincount() gives the frequency of occurences. But with certain differences.\n",
    "While histogram() gives the frequency counts of the bins, bincount() gives the frequency count of all the elements in the range of the array between the min and max values. Including the values that did not occur."
   ]
  },
  {
   "cell_type": "code",
   "execution_count": 74,
   "metadata": {},
   "outputs": [
    {
     "name": "stdout",
     "output_type": "stream",
     "text": [
      "bincount:(per each value from min to max) [0 2 3 0 2 1 3]\n",
      "Counts:  [2 3 3 3 0]\n",
      "Bins:  [ 0  2  4  6  8 10]\n"
     ]
    }
   ],
   "source": [
    "# Bincount example\n",
    "x = np.array([1,1,2,2,2,4,4,5,6,6,6]) # doesn't need to be sorted\n",
    "print('bincount:(per each value from min to max)',np.bincount(x)) # 0 occurs 0 times, 1 occurs 2 times, 2 occurs thrice, 3 occurs 0 times, ...\n",
    "\n",
    "# Histogram example\n",
    "counts, bins = np.histogram(x, [0, 2, 4, 6, 8,10])\n",
    "print('Counts: ', counts)\n",
    "print('Bins: ', bins)"
   ]
  },
  {
   "cell_type": "markdown",
   "metadata": {},
   "source": [
    "Thank you for your time.<br>\n",
    "We are going to add other libraries tutorials like, scipy, PIL, matplotlib and ..."
   ]
  },
  {
   "cell_type": "code",
   "execution_count": null,
   "metadata": {},
   "outputs": [],
   "source": []
  }
 ],
 "metadata": {
  "kernelspec": {
   "display_name": "Python 3",
   "language": "python",
   "name": "python3"
  },
  "language_info": {
   "codemirror_mode": {
    "name": "ipython",
    "version": 3
   },
   "file_extension": ".py",
   "mimetype": "text/x-python",
   "name": "python",
   "nbconvert_exporter": "python",
   "pygments_lexer": "ipython3",
   "version": "3.7.3"
  },
  "pycharm": {
   "stem_cell": {
    "cell_type": "raw",
    "metadata": {
     "collapsed": false
    },
    "source": []
   }
  }
 },
 "nbformat": 4,
 "nbformat_minor": 1
}
